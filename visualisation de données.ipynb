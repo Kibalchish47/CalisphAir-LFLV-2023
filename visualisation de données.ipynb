{
 "cells": [
  {
   "cell_type": "markdown",
   "metadata": {},
   "source": [
    "### Imports et données"
   ]
  },
  {
   "cell_type": "markdown",
   "metadata": {},
   "source": [
    "#### Imports, dates et valeurs de Alpha α"
   ]
  },
  {
   "cell_type": "code",
   "execution_count": null,
   "metadata": {},
   "outputs": [],
   "source": [
    "# Import seaborn et matplotlib\n",
    "import seaborn as sns\n",
    "import matplotlib.pyplot as plt"
   ]
  },
  {
   "cell_type": "code",
   "execution_count": null,
   "metadata": {},
   "outputs": [],
   "source": [
    "# Dates de prises de mesures\n",
    "dates = ['23-10-2023', '06-11-2023', '08-11-2023', '10-11-2023', '14-11-2023', '20-11-2023', '24-11-2023', '30-11-2023']\n",
    "\n",
    "# Valeurs de Alpha α\n",
    "alpha_values = [0.63, 0.57, 1.03, 0.62, 0.29, 0.44, 0.53, 0.20]"
   ]
  },
  {
   "cell_type": "markdown",
   "metadata": {},
   "source": [
    "#### Données de Rayan"
   ]
  },
  {
   "cell_type": "code",
   "execution_count": null,
   "metadata": {},
   "outputs": [],
   "source": [
    "# Valeurs de Rayan (le pourcentage des bons tirs de basket de Rayan)\n",
    "# Chaque valeur correspond à une journée dans la liste\n",
    "# Attention!!! Les valeurs doivent être vérifiées et comparées aux valeurs du cahier de bord \n",
    "\n",
    "athlete_results_rayan = [0.6, 0.1, 0.4, 0.5, 0.4, 0.4, 0.6, 0.5]"
   ]
  },
  {
   "cell_type": "code",
   "execution_count": null,
   "metadata": {},
   "outputs": [],
   "source": [
    "# Make sure the arrays are of the same length to proceed (Rayan)\n",
    "print(\"len(dates) = \", len(dates))\n",
    "print(\"len(athlete_results) = \", len(athlete_results_rayan))\n",
    "print(\"len(alpha_values) = \", len(alpha_values))"
   ]
  },
  {
   "cell_type": "markdown",
   "metadata": {},
   "source": [
    "#### Données de Yara"
   ]
  },
  {
   "cell_type": "code",
   "execution_count": null,
   "metadata": {},
   "outputs": [],
   "source": [
    "# Valeurs de Yara (chaque type de BPM)\n",
    "# Chaque valeur correspond à une journée dans la liste\n",
    "# Attention!!! Les valeurs doivent être vérifiées et comparées aux valeurs du cahier de bord \n",
    "\n",
    "athlete_results_yara_restingBPM =        [ 90,  89,  90,  82,  91, 101,  97, 100]\n",
    "\n",
    "athlete_results_yara_after15s_exercise = [135, 120, 125, 120, 132, 143, 132, 128]\n",
    "athlete_results_yara_after15s_rest =     [126, 105, 109, 105, 121, 124, 119, 115] \n",
    "\n",
    "athlete_results_yara_after30s_exercise = [173, 167, 167, 162, 171, 169, 160, 165]\n",
    "athlete_results_yara_after30s_rest =     [154, 158, 139, 133, 140, 141, 134, 145]\n",
    "\n",
    "athlete_results_yara_after60s_exercise = [167, 170, 137, 147, 172, 142, 141, 153]\n",
    "athlete_results_yara_after60s_rest =     [123, 110, 107, 120, 144, 125, 122, 130]"
   ]
  },
  {
   "cell_type": "code",
   "execution_count": null,
   "metadata": {},
   "outputs": [],
   "source": [
    "# Vérifier que les listes sont de la même longueur pour continuer (Yara)\n",
    "print(\"len(dates) = \", len(dates))\n",
    "\n",
    "print(\"len(athlete_results_yara_restingBPM) = \", len(athlete_results_yara_restingBPM))\n",
    "\n",
    "print(\"len(athlete_results_yara_after15s_exercise) = \", len(athlete_results_yara_after15s_exercise))\n",
    "print(\"len(athlete_results_yara_after15s_rest) = \", len(athlete_results_yara_after15s_rest))\n",
    "\n",
    "print(\"len(athlete_results_yara_after30s_exercise) = \", len(athlete_results_yara_after30s_exercise))\n",
    "print(\"len(athlete_results_yara_after30s_rest) = \", len(athlete_results_yara_after30s_rest))\n",
    "\n",
    "print(\"len(athlete_results_yara_after60s_exercise) = \", len(athlete_results_yara_after60s_exercise))\n",
    "print(\"len(athlete_results_yara_after60s_rest) = \", len(athlete_results_yara_after60s_rest))\n",
    "\n",
    "print(\"len(alpha_values) = \", len(alpha_values))"
   ]
  },
  {
   "cell_type": "markdown",
   "metadata": {},
   "source": [
    "#### Données de Aya"
   ]
  },
  {
   "cell_type": "code",
   "execution_count": null,
   "metadata": {},
   "outputs": [],
   "source": [
    "# Valeurs de Aya (chaque type de BPM)\n",
    "# Chaque valeur correspond à une journée dans la liste\n",
    "# Attention!!! Les valeurs doivent être vérifiées et comparées aux valeurs du cahier de bord \n",
    "\n",
    "athlete_results_aya_restingBPM =        [  71,  72,  96,  98,  81,  63,  98,  82]\n",
    "\n",
    "athlete_results_aya_after15s_exercise = [ 103, 125, 130, 137, 124, 107, 131, 128]\n",
    "athlete_results_aya_after15s_rest =     [  85, 111, 119, 126, 109, 101, 117, 104]\n",
    "\n",
    "athlete_results_aya_after30s_exercise = [ 129, 120, 127,  98,  94, 125, 132, 125]\n",
    "athlete_results_aya_after30s_rest =     [ 105, 103, 108,  77,  60, 107, 101, 103]\n",
    "\n",
    "athlete_results_aya_after60s_exercise = [ 141, 106, 132, 114, 106, 142, 134, 123]\n",
    "athlete_results_aya_after60s_rest =     [ 116,  79, 112,  88,  93, 113, 103,  95]"
   ]
  },
  {
   "cell_type": "code",
   "execution_count": null,
   "metadata": {},
   "outputs": [],
   "source": [
    "# Vérifier que les listes sont de la même longueur pour continuer (Aya)\n",
    "print(\"len(dates) = \", len(dates))\n",
    "\n",
    "print(\"len(athlete_results_aya_restingBPM) = \", len(athlete_results_aya_restingBPM))\n",
    "\n",
    "print(\"len(athlete_results_aya_after15s_exercise) = \", len(athlete_results_aya_after15s_exercise))\n",
    "print(\"len(athlete_results_aya_after15s_rest) = \", len(athlete_results_aya_after15s_rest))\n",
    "\n",
    "print(\"len(athlete_results_aya_after30s_exercise) = \", len(athlete_results_aya_after30s_exercise))\n",
    "print(\"len(athlete_results_aya_after30s_rest) = \", len(athlete_results_aya_after30s_rest))\n",
    "\n",
    "print(\"len(athlete_results_aya_after60s_exercise) = \", len(athlete_results_aya_after60s_exercise))\n",
    "print(\"len(athlete_results_aya_after60s_rest) = \", len(athlete_results_aya_after60s_rest))\n",
    "\n",
    "print(\"len(alpha_values) = \", len(alpha_values))"
   ]
  },
  {
   "cell_type": "code",
   "execution_count": null,
   "metadata": {},
   "outputs": [],
   "source": [
    "# Créer les labels de l'axe des abscisses\n",
    "x_labels = [\"BPM de Repos\", \"Après 15s d'Activité\", \"Après 15s de Repos\",\n",
    "            \"Après 30s d'Activité\", \"Après 30s de Repos\", \"Après 60s d'Activité\", \"Après 60s de Repos\"]"
   ]
  },
  {
   "cell_type": "markdown",
   "metadata": {},
   "source": [
    "### Rayan: Résultats liées au Basketball (résultats en fonction des jours)"
   ]
  },
  {
   "cell_type": "markdown",
   "metadata": {},
   "source": [
    "### Yara: Résultats liées aux Jumping Jacks (résultats en fonction des jours) "
   ]
  },
  {
   "cell_type": "markdown",
   "metadata": {},
   "source": [
    "### Aya: Résultats liées au Planck (résultats en fonction des jours)"
   ]
  }
 ],
 "metadata": {
  "language_info": {
   "name": "python"
  }
 },
 "nbformat": 4,
 "nbformat_minor": 2
}
