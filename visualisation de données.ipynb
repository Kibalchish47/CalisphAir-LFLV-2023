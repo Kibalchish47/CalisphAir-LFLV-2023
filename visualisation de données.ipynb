{
 "cells": [
  {
   "cell_type": "code",
   "execution_count": null,
   "metadata": {},
   "outputs": [],
   "source": [
    "# Import seaborn\n",
    "import seaborn as sns\n",
    "import matplotlib.pyplot as plt"
   ]
  },
  {
   "cell_type": "code",
   "execution_count": null,
   "metadata": {},
   "outputs": [],
   "source": [
    "# Dates de prises de mesures\n",
    "dates = ['23-10-2023', '06-11-2023', '08-11-2023', '10-11-2023', '14-11-2023', '20-11-2023', '24-11-2023', '30-11-2023']\n",
    "\n",
    "# Valeurs de alpha \n",
    "alpha_values = [0.63, 0.57, 1.03, 0.62, 0.29, 0.44, 0.53, 0.20]"
   ]
  },
  {
   "cell_type": "code",
   "execution_count": null,
   "metadata": {},
   "outputs": [],
   "source": [
    "# Valeurs Rayan\n",
    "athlete_results_rayan = [0.6, 0.1, 0.4, 0.5, 0.4, 0.4, 0.6, 0.5]"
   ]
  },
  {
   "cell_type": "code",
   "execution_count": null,
   "metadata": {},
   "outputs": [],
   "source": [
    "# Make sure the arrays are of the same length to proceed (Rayan)\n",
    "print(\"len(dates) = \", len(dates))\n",
    "print(\"len(athlete_results) = \", len(athlete_results_rayan))\n",
    "print(\"len(alpha_values) = \", len(alpha_values))"
   ]
  },
  {
   "cell_type": "code",
   "execution_count": null,
   "metadata": {},
   "outputs": [],
   "source": [
    "# Valeurs de Yara (chaque type de BPM)\n",
    "# Chaque valeur correspond à une journée dans la liste\n",
    "# Attention!!! Les valeurs doivent être vérifiées et comparées aux valeurs du cahier de bord \n",
    "\n",
    "athlete_results_yara_restingBPM =        [ 90,  89,  90,  82,  91, 101,  97, 100]\n",
    "\n",
    "athlete_results_yara_after15s_exercise = [135, 120, 125, 120, 132, 143, 132, 128]\n",
    "athlete_results_yara_after15s_rest =     [126, 105, 109, 105, 121, 124, 119, 115] \n",
    "\n",
    "athlete_results_yara_after30s_exercise = [173, 167, 167, 162, 171, 169, 160, 165]\n",
    "athlete_results_yara_after30s_rest =     [154, 158, 139, 133, 140, 141, 134, 145]\n",
    "\n",
    "athlete_results_yara_after60s_exercise = [167, 170, 137, 147, 172, 142, 141, 153]\n",
    "athlete_results_yara_after60s_rest =     [123, 110, 107, 120, 144, 125, 122, 130]"
   ]
  }
 ],
 "metadata": {
  "language_info": {
   "name": "python"
  }
 },
 "nbformat": 4,
 "nbformat_minor": 2
}
