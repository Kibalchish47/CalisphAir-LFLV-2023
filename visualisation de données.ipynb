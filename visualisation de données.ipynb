{
 "cells": [
  {
   "cell_type": "code",
   "execution_count": null,
   "metadata": {},
   "outputs": [],
   "source": [
    "# Import seaborn\n",
    "import seaborn as sns\n",
    "import matplotlib.pyplot as plt"
   ]
  },
  {
   "cell_type": "code",
   "execution_count": null,
   "metadata": {},
   "outputs": [],
   "source": [
    "# Dates de prises de mesures\n",
    "dates = ['23-10-2023', '06-11-2023', '08-11-2023', '10-11-2023', '14-11-2023', '20-11-2023', '24-11-2023', '30-11-2023']\n",
    "\n",
    "# Valeurs de alpha \n",
    "alpha_values = [0.63, 0.57, 1.03, 0.62, 0.29, 0.44, 0.53, 0.20]"
   ]
  },
  {
   "cell_type": "code",
   "execution_count": null,
   "metadata": {},
   "outputs": [],
   "source": [
    "# Valeurs Rayan\n",
    "athlete_results_rayan = [0.6, 0.1, 0.4, 0.5, 0.4, 0.4, 0.6, 0.5]"
   ]
  }
 ],
 "metadata": {
  "language_info": {
   "name": "python"
  }
 },
 "nbformat": 4,
 "nbformat_minor": 2
}
