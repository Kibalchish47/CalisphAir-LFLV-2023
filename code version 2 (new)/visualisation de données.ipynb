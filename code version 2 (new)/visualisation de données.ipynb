{
 "cells": [
  {
   "cell_type": "markdown",
   "metadata": {},
   "source": [
    "# Visualisation des données"
   ]
  },
  {
   "cell_type": "markdown",
   "metadata": {},
   "source": [
    "# Imports et données"
   ]
  },
  {
   "cell_type": "markdown",
   "metadata": {},
   "source": [
    "## Imports, dates et valeurs de Alpha α"
   ]
  },
  {
   "cell_type": "code",
   "execution_count": 1,
   "metadata": {},
   "outputs": [],
   "source": [
    "# Import seaborn et matplotlib\n",
    "import seaborn as sns # cette librairie fait des meilleurs graphiques que Matplotlib (elle le complèmente)\n",
    "import matplotlib.pyplot as plt # librairie pour les graphiques\n",
    "sns.set_theme() # thème de défault de Seaborn"
   ]
  },
  {
   "cell_type": "code",
   "execution_count": 2,
   "metadata": {},
   "outputs": [],
   "source": [
    "# Dates de prises de mesures (à modifier avec chaque prise de mesure)\n",
    "dates = [\"14-03-2024\", \"03-04-2024\", \"16-04-2024\", \"17-04-2024\", \"23-04-2024\"]\n",
    "\n",
    "# Valeurs de Alpha α\n",
    "alpha_values = [2.78, 2.3, 2.62, 2.58, 0.89] # données non-modifiées \n",
    "\n",
    "# Taille des particules\n",
    "particle_size = [\"fine and coarse\", \"fine\", \"fine and coarse\", \"fine, biomass fires and pollution\", \"fine and coarse\"]"
   ]
  },
  {
   "cell_type": "markdown",
   "metadata": {},
   "source": [
    "## Données de Aya"
   ]
  },
  {
   "cell_type": "code",
   "execution_count": 3,
   "metadata": {},
   "outputs": [],
   "source": [
    "# Valeurs de Aya\n",
    "# Chaque valeur correspond à une journée dans la liste\n",
    "# Attention!!! Les valeurs doivent être vérifiées et comparées aux valeurs du cahier de bord \n",
    "\n",
    "athlete_results_aya_restingBPM     = [ 86, 88, 96, 92, 77] # données modifiées \n",
    "\n",
    "athlete_results_aya_after_exercise = [169, 160, 184, 159, 157] # données modifiées\n",
    " \n",
    "athlete_results_aya_after_rest     = [123, 100, 116, 121, 140] # données modifiées"
   ]
  },
  {
   "cell_type": "code",
   "execution_count": 4,
   "metadata": {},
   "outputs": [
    {
     "name": "stdout",
     "output_type": "stream",
     "text": [
      "len(dates) =  5\n",
      "len(athlete_results_aya_restingBPM) =  5\n",
      "len(athlete_results_aya_after_exercise) =  5\n",
      "len(athlete_results_aya_after_rest) =  5\n",
      "len(alpha_values) =  5\n",
      "len(particle_size) =  5\n"
     ]
    }
   ],
   "source": [
    "# Vérifier que les listes sont de la même longueur pour continuer (Rayan)\n",
    "print(\"len(dates) = \", len(dates))\n",
    "\n",
    "print(\"len(athlete_results_aya_restingBPM) = \",     len(athlete_results_aya_restingBPM))\n",
    "\n",
    "print(\"len(athlete_results_aya_after_exercise) = \", len(athlete_results_aya_after_exercise))\n",
    "print(\"len(athlete_results_aya_after_rest) = \",     len(athlete_results_aya_after_rest))\n",
    "\n",
    "print(\"len(alpha_values) = \", len(alpha_values))\n",
    "print(\"len(particle_size) = \", len(particle_size))"
   ]
  },
  {
   "cell_type": "markdown",
   "metadata": {},
   "source": [
    "## Données de Rayan"
   ]
  },
  {
   "cell_type": "code",
   "execution_count": 5,
   "metadata": {},
   "outputs": [],
   "source": [
    "# Valeurs de Rayan\n",
    "# Chaque valeur correspond à une journée dans la liste\n",
    "# Attention!!! Les valeurs doivent être vérifiées et comparées aux valeurs du cahier de bord \n",
    "\n",
    "athlete_results_rayan_restingBPM     = [ 86, 111, 98, 113, 99] # données modifiées \n",
    "\n",
    "athlete_results_rayan_after_exercise = [163, 140, 184, 139, 124] # données modifiées\n",
    " \n",
    "athlete_results_rayan_after_rest     = [108, 115, 113, 122, 112] # données modifiées\n",
    "\n",
    "# Note: Moyenne Rayan Avant = 99, Juste après = 124, Après pause = 112"
   ]
  },
  {
   "cell_type": "code",
   "execution_count": 6,
   "metadata": {},
   "outputs": [
    {
     "name": "stdout",
     "output_type": "stream",
     "text": [
      "len(dates) =  5\n",
      "len(athlete_results_rayan_restingBPM) =  5\n",
      "len(athlete_results_rayan_after_exercise) =  5\n",
      "len(athlete_results_rayan_after_rest) =  5\n",
      "len(alpha_values) =  5\n",
      "len(particle_size) =  5\n"
     ]
    }
   ],
   "source": [
    "# Vérifier que les listes sont de la même longueur pour continuer (Rayan)\n",
    "print(\"len(dates) = \", len(dates))\n",
    "\n",
    "print(\"len(athlete_results_rayan_restingBPM) = \",     len(athlete_results_rayan_restingBPM))\n",
    "\n",
    "print(\"len(athlete_results_rayan_after_exercise) = \", len(athlete_results_rayan_after_exercise))\n",
    "print(\"len(athlete_results_rayan_after_rest) = \",     len(athlete_results_rayan_after_rest))\n",
    "\n",
    "print(\"len(alpha_values) = \", len(alpha_values))\n",
    "print(\"len(particle_size) = \", len(particle_size))"
   ]
  },
  {
   "cell_type": "markdown",
   "metadata": {},
   "source": [
    "## Données de Yara"
   ]
  },
  {
   "cell_type": "code",
   "execution_count": 7,
   "metadata": {},
   "outputs": [
    {
     "ename": "NameError",
     "evalue": "name 'X' is not defined",
     "output_type": "error",
     "traceback": [
      "\u001b[1;31m---------------------------------------------------------------------------\u001b[0m",
      "\u001b[1;31mNameError\u001b[0m                                 Traceback (most recent call last)",
      "Cell \u001b[1;32mIn[7], line 7\u001b[0m\n\u001b[0;32m      1\u001b[0m \u001b[38;5;66;03m# Valeurs de Yara (chaque type de BPM)\u001b[39;00m\n\u001b[0;32m      2\u001b[0m \u001b[38;5;66;03m# Chaque valeur correspond à une journée dans la liste\u001b[39;00m\n\u001b[0;32m      3\u001b[0m \u001b[38;5;66;03m# Attention!!! Les valeurs doivent être vérifiées et comparées aux valeurs du cahier de bord \u001b[39;00m\n\u001b[0;32m      5\u001b[0m athlete_results_yara_restingBPM        \u001b[38;5;241m=\u001b[39m [ \u001b[38;5;241m90\u001b[39m, \u001b[38;5;241m86\u001b[39m, \u001b[38;5;241m104\u001b[39m, \u001b[38;5;241m106\u001b[39m, \u001b[38;5;241m103\u001b[39m] \u001b[38;5;66;03m# données modifiées \u001b[39;00m\n\u001b[1;32m----> 7\u001b[0m athlete_results_yara_after20s_exercise \u001b[38;5;241m=\u001b[39m [\u001b[38;5;241m176\u001b[39m, \u001b[43mX\u001b[49m, X, X, \u001b[38;5;241m177\u001b[39m] \u001b[38;5;66;03m# données modifiées \u001b[39;00m\n\u001b[0;32m      8\u001b[0m athlete_results_yara_after20s_rest     \u001b[38;5;241m=\u001b[39m [ \u001b[38;5;241m81\u001b[39m, \u001b[38;5;241m100\u001b[39m, \u001b[38;5;241m118\u001b[39m, \u001b[38;5;241m136\u001b[39m, \u001b[38;5;241m168\u001b[39m] \u001b[38;5;66;03m# données modifiées \u001b[39;00m\n\u001b[0;32m     10\u001b[0m athlete_results_yara_after40s_exercise \u001b[38;5;241m=\u001b[39m [\u001b[38;5;241m150\u001b[39m, X, X, X, \u001b[38;5;241m186\u001b[39m] \u001b[38;5;66;03m# données modifiées \u001b[39;00m\n",
      "\u001b[1;31mNameError\u001b[0m: name 'X' is not defined"
     ]
    }
   ],
   "source": [
    "# Valeurs de Yara (chaque type de BPM)\n",
    "# Chaque valeur correspond à une journée dans la liste\n",
    "# Attention!!! Les valeurs doivent être vérifiées et comparées aux valeurs du cahier de bord \n",
    "\n",
    "athlete_results_yara_restingBPM        = [ 90, 86, 104, 106, 103] # données modifiées \n",
    "\n",
    "athlete_results_yara_after20s_exercise = [176, X, X, X, 177] # données modifiées \n",
    "athlete_results_yara_after20s_rest     = [ 81, 100, 118, 136, 168] # données modifiées \n",
    "\n",
    "athlete_results_yara_after40s_exercise = [150, X, X, X, 186] # données modifiées \n",
    "athlete_results_yara_after40s_rest     = [146, 126, 178, 142, 170] # données modifiées \n",
    "\n",
    "athlete_results_yara_after60s_exercise = [112, 140, 186, X, 86] # données modifiées \n",
    "athlete_results_yara_after60s_rest     = [112, 110, 161, 169, 149] # données modifiées "
   ]
  },
  {
   "cell_type": "code",
   "execution_count": null,
   "metadata": {},
   "outputs": [],
   "source": [
    "# Vérifier que les listes sont de la même longueur pour continuer (Yara)\n",
    "print(\"len(dates) = \", len(dates))\n",
    "\n",
    "print(\"len(athlete_results_yara_restingBPM) = \",        len(athlete_results_yara_restingBPM))\n",
    "\n",
    "print(\"len(athlete_results_yara_after20s_exercise) = \", len(athlete_results_yara_after20s_exercise))\n",
    "print(\"len(athlete_results_yara_after20s_rest) = \",     len(athlete_results_yara_after20s_rest))\n",
    "\n",
    "print(\"len(athlete_results_yara_after40s_exercise) = \", len(athlete_results_yara_after40s_exercise))\n",
    "print(\"len(athlete_results_yara_after40s_rest) = \",     len(athlete_results_yara_after40s_rest))\n",
    "\n",
    "print(\"len(athlete_results_yara_after60s_exercise) = \", len(athlete_results_yara_after60s_exercise))\n",
    "print(\"len(athlete_results_yara_after60s_rest) = \",     len(athlete_results_yara_after60s_rest))\n",
    "\n",
    "print(\"len(alpha_values) = \", len(alpha_values))\n",
    "print(\"len(particle_size) = \", len(particle_size))"
   ]
  },
  {
   "cell_type": "code",
   "execution_count": null,
   "metadata": {},
   "outputs": [],
   "source": [
    "# Différences entre BPM après 60s d'exercices et 60 secondes de repos de Yara\n",
    "differences_yara = []\n",
    "\n",
    "for i in range(len(athlete_results_yara_after60s_exercise)):\n",
    "    difference_yara = athlete_results_yara_after60s_exercise[i] - athlete_results_yara_after60s_rest[i]\n",
    "    differences_yara.append(difference_yara)"
   ]
  },
  {
   "cell_type": "markdown",
   "metadata": {},
   "source": [
    "## Données de Morgan"
   ]
  },
  {
   "cell_type": "code",
   "execution_count": null,
   "metadata": {},
   "outputs": [],
   "source": [
    "# Valeurs de Morgan (chaque type de BPM)\n",
    "# Chaque valeur correspond à une journée dans la liste\n",
    "# Attention!!! Les valeurs doivent être vérifiées et comparées aux valeurs du cahier de bord \n",
    "\n",
    "athlete_results_morgan_restingBPM        = [ 94, 91, 94, 85, 91] # données modifiées \n",
    "\n",
    "athlete_results_morgan_after20s_exercise = [157, X, 161, X, 162] # données modifiées \n",
    "athlete_results_morgan_after20s_rest     = [147, 136, 154, 143, 155] # données modifiées \n",
    "\n",
    "athlete_results_morgan_after40s_exercise = [179, 180, 168, 160, 178] # données modifiées \n",
    "athlete_results_morgan_after40s_rest     = [156, 100, 152, 134, 159] # données modifiées \n",
    "\n",
    "athlete_results_morgan_after60s_exercise = [173, 145, 172, 167, 185] # données modifiées \n",
    "athlete_results_morgan_after60s_rest     = [156, 120, 154, 138, 152] # données modifiées "
   ]
  },
  {
   "cell_type": "code",
   "execution_count": null,
   "metadata": {},
   "outputs": [],
   "source": [
    "# Vérifier que les listes sont de la même longueur pour continuer (Morgan)\n",
    "print(\"len(dates) = \", len(dates))\n",
    "\n",
    "print(\"len(athlete_results_morgan_restingBPM) = \",        len(athlete_results_morgan_restingBPM))\n",
    "\n",
    "print(\"len(athlete_results_morgan_after20s_exercise) = \", len(athlete_results_morgan_after20s_exercise))\n",
    "print(\"len(athlete_results_morgan_after20s_rest) = \",     len(athlete_results_morgan_after20s_rest))\n",
    "\n",
    "print(\"len(athlete_results_morgan_after40s_exercise) = \", len(athlete_results_morgan_after40s_exercise))\n",
    "print(\"len(athlete_results_morgan_after40s_rest) = \",     len(athlete_results_morgan_after40s_rest))\n",
    "\n",
    "print(\"len(athlete_results_morgan_after60s_exercise) = \", len(athlete_results_morgan_after60s_exercise))\n",
    "print(\"len(athlete_results_morgan_after60s_rest) = \",     len(athlete_results_morgan_after60s_rest))\n",
    "\n",
    "print(\"len(alpha_values) = \", len(alpha_values))\n",
    "print(\"len(particle_size) = \", len(particle_size))\n"
   ]
  },
  {
   "cell_type": "code",
   "execution_count": null,
   "metadata": {},
   "outputs": [],
   "source": [
    "# Différences entre BPM après 60s d'exercices et 60 secondes de repos de Morgan\n",
    "differences_morgan = []\n",
    "\n",
    "for i in range(len(athlete_results_morgan_after60s_exercise)):\n",
    "    difference_morgan = athlete_results_morgan_after60s_exercise[i] - athlete_results_morgan_after60s_rest[i]\n",
    "    differences_morgan.append(difference_morgan)"
   ]
  },
  {
   "cell_type": "markdown",
   "metadata": {},
   "source": [
    "## Autres choses"
   ]
  },
  {
   "cell_type": "code",
   "execution_count": null,
   "metadata": {},
   "outputs": [],
   "source": [
    "# Créer les \"labels\" de l'axe des abscisses (pour les graphiques)\n",
    "x_labels_1 = [\"BPM de Repos\", \n",
    "            \"Après 20s d'Activité\", \"Après 20s de Repos\",\n",
    "            \"Après 40s d'Activité\", \"Après 40s de Repos\", \n",
    "            \"Après 60s d'Activité\", \"Après 60s de Repos\"]"
   ]
  },
  {
   "cell_type": "code",
   "execution_count": null,
   "metadata": {},
   "outputs": [],
   "source": [
    "# Créer les \"labels\" de l'axe des abscisses (pour les graphiques)\n",
    "x_labels_2 = [\"BPM de Repos\", \"BPM d'Activité\", \"BPM Après 3min30s de Repos\"]"
   ]
  },
  {
   "cell_type": "markdown",
   "metadata": {},
   "source": [
    "# Analyse des données \n",
    "### Graphique: valeurs de Alpha en fonction des jours"
   ]
  },
  {
   "cell_type": "code",
   "execution_count": null,
   "metadata": {},
   "outputs": [],
   "source": [
    "# Visualiser les valeurs de Alpha α en fonction des jours avec un graphique\n",
    "plt.figure(figsize=(10, 6))\n",
    "sns.lineplot(x=dates, y=alpha_values)\n",
    "\n",
    "plt.xlabel(\"Dates de l'activité physique\", fontweight=\"bold\")\n",
    "plt.ylabel(\"Valeurs de Alpha α\", fontweight=\"bold\")\n",
    "\n",
    "plt.title(\"Variation des valeurs de Alpha α en fonction des jours\", fontweight=\"bold\", fontsize=14)\n",
    "\n",
    "plt.xticks(rotation=45)\n",
    "plt.show()"
   ]
  },
  {
   "cell_type": "markdown",
   "metadata": {},
   "source": [
    "### Graphique: BPM de Yara"
   ]
  },
  {
   "cell_type": "code",
   "execution_count": null,
   "metadata": {},
   "outputs": [],
   "source": [
    "sns.set(font_scale=1.2, font=\"Verdana\")\n",
    "\n",
    "plt.figure(figsize=(16, 32))\n",
    "for i in range(8):\n",
    "    plt.subplot(8, 1, i + 1)\n",
    "    sns.lineplot(x=x_labels_1, y=[athlete_results_yara_restingBPM[i],\n",
    "                                athlete_results_yara_after20s_exercise[i],\n",
    "                                athlete_results_yara_after20s_rest[i],\n",
    "                                athlete_results_yara_after40s_exercise[i],\n",
    "                                athlete_results_yara_after40s_rest[i],\n",
    "                                athlete_results_yara_after60s_exercise[i],\n",
    "                                athlete_results_yara_after60s_rest[i]])\n",
    "    plt.title(f\"{dates[i]} (α = {alpha_values[i]}, {particle_size[i]})\", fontweight=\"bold\", fontsize=23)\n",
    "    plt.ylabel(\"BPM de Yara\", fontweight=\"bold\", fontsize=15)\n",
    "plt.tight_layout()\n",
    "plt.show()"
   ]
  },
  {
   "cell_type": "code",
   "execution_count": null,
   "metadata": {},
   "outputs": [],
   "source": [
    "# Graphique Commun \n",
    "sns.set_theme(font_scale=1.12, font=\"Verdana\")\n",
    "fig, ax1 = plt.subplots(figsize=(12, 8))\n",
    "\n",
    "# Créer le second axe\n",
    "ax2 = ax1.twinx()\n",
    "\n",
    "# Graphique des Performances de Yara (pour le premier graphique des y)\n",
    "yara_line = sns.lineplot(\n",
    "    x=dates, y=differences_yara,\n",
    "    ax=ax1, style=True, \n",
    "    color='b', dashes=[(2, 2)],\n",
    "    label=\"Performance de Yara (BPM)\", legend=False\n",
    ")\n",
    "yara_line.legend(loc=\"upper right\")\n",
    "\n",
    "# Graphique des valeurs de Alpha (pour le deuxième graphique des y)\n",
    "alpha_line = sns.lineplot(\n",
    "    x=dates, y=alpha_values,\n",
    "    ax=ax2, style=True, \n",
    "    color='r', dashes=[(2, 2)],\n",
    "    label=\"Valeurs de Alpha α\", legend=False\n",
    ")\n",
    "alpha_line.legend(loc=\"upper left\")\n",
    "\n",
    "# Tailles des particules\n",
    "for i in range(len(dates)):\n",
    "    ax2.text(dates[i], alpha_values[i], particle_size[i], horizontalalignment='left', size='small', color='black')\n",
    "\n",
    "# Les labels\n",
    "ax1.set_xlabel(\"Dates de l'activité physique\", fontweight=\"bold\")\n",
    "ax1.set_ylabel(\"Performance de Yara (BPM)\", fontweight=\"bold\")\n",
    "ax2.set_ylabel(\"Valeurs de Alpha α\", fontweight=\"bold\")\n",
    "\n",
    "# Le titre du graphique\n",
    "plt.title(\"Variation des performances de Yara & des valeurs de Alpha α en fonction des jours\", fontweight=\"bold\", fontsize=14)\n",
    "\n",
    "# Rotation de l'axe des x\n",
    "plt.xticks(rotation=45)\n",
    "\n",
    "# Combiner les légendes\n",
    "lines, labels = ax1.get_legend_handles_labels()\n",
    "lines2, labels2 = ax2.get_legend_handles_labels()\n",
    "ax2.legend(lines + lines2, labels + labels2, loc='upper right')\n",
    "\n",
    "plt.show()\n"
   ]
  },
  {
   "cell_type": "markdown",
   "metadata": {},
   "source": [
    "### Graphique: BPM de Morgan"
   ]
  },
  {
   "cell_type": "code",
   "execution_count": null,
   "metadata": {},
   "outputs": [],
   "source": [
    "sns.set(font_scale=1.2, font=\"Verdana\")\n",
    "\n",
    "plt.figure(figsize=(16, 32))\n",
    "for i in range(8):\n",
    "    plt.subplot(8, 1, i + 1)\n",
    "    sns.lineplot(x=x_labels_1, y=[athlete_results_morgan_restingBPM[i],\n",
    "                                athlete_results_morgan_after20s_exercise[i],\n",
    "                                athlete_results_morgan_after20s_rest[i],\n",
    "                                athlete_results_morgan_after40s_exercise[i],\n",
    "                                athlete_results_morgan_after40s_rest[i],\n",
    "                                athlete_results_morgan_after60s_exercise[i],\n",
    "                                athlete_results_morgan_after60s_rest[i]])\n",
    "    plt.title(f\"{dates[i]} (α = {alpha_values[i]}, {particle_size[i]})\", fontweight=\"bold\", fontsize=23)\n",
    "    plt.ylabel(\"BPM de Yara\", fontweight=\"bold\", fontsize=15)\n",
    "plt.tight_layout()\n",
    "plt.show()"
   ]
  },
  {
   "cell_type": "code",
   "execution_count": null,
   "metadata": {},
   "outputs": [],
   "source": [
    "# Graphique Commun \n",
    "sns.set_theme(font_scale=1.12, font=\"Verdana\")\n",
    "fig, ax1 = plt.subplots(figsize=(12, 8))\n",
    "\n",
    "# Créer le second axe\n",
    "ax2 = ax1.twinx()\n",
    "\n",
    "# Graphique des Performances de Yara (pour le premier graphique des y)\n",
    "yara_line = sns.lineplot(\n",
    "    x=dates, y=differences_morgan,\n",
    "    ax=ax1, style=True, \n",
    "    color='b', dashes=[(2, 2)],\n",
    "    label=\"Performance de Morgan (BPM)\", legend=False\n",
    ")\n",
    "yara_line.legend(loc=\"upper right\")\n",
    "\n",
    "# Graphique des valeurs de Alpha (pour le deuxième graphique des y)\n",
    "alpha_line = sns.lineplot(\n",
    "    x=dates, y=alpha_values,\n",
    "    ax=ax2, style=True, \n",
    "    color='r', dashes=[(2, 2)],\n",
    "    label=\"Valeurs de Alpha α\", legend=False\n",
    ")\n",
    "alpha_line.legend(loc=\"upper left\")\n",
    "\n",
    "# Tailles des particules\n",
    "for i in range(len(dates)):\n",
    "    ax2.text(dates[i], alpha_values[i], particle_size[i], horizontalalignment='left', size='small', color='black')\n",
    "\n",
    "# Les labels\n",
    "ax1.set_xlabel(\"Dates de l'activité physique\", fontweight=\"bold\")\n",
    "ax1.set_ylabel(\"Performance de Morgan (BPM)\", fontweight=\"bold\")\n",
    "ax2.set_ylabel(\"Valeurs de Alpha α\", fontweight=\"bold\")\n",
    "\n",
    "# Le titre du graphique\n",
    "plt.title(\"Variation des performances de Morgan & des valeurs de Alpha α en fonction des jours\", fontweight=\"bold\", fontsize=14)\n",
    "\n",
    "# Rotation de l'axe des x\n",
    "plt.xticks(rotation=45)\n",
    "\n",
    "# Combiner les légendes\n",
    "lines, labels = ax1.get_legend_handles_labels()\n",
    "lines2, labels2 = ax2.get_legend_handles_labels()\n",
    "ax2.legend(lines + lines2, labels + labels2, loc='upper right')\n",
    "\n",
    "plt.show()"
   ]
  },
  {
   "cell_type": "markdown",
   "metadata": {},
   "source": [
    "### Graphiques: BPM de Aya"
   ]
  },
  {
   "cell_type": "code",
   "execution_count": null,
   "metadata": {},
   "outputs": [],
   "source": [
    "sns.set(font_scale=1.2, font=\"Verdana\")\n",
    "\n",
    "plt.figure(figsize=(16, 32))\n",
    "for i in range(8):\n",
    "    plt.subplot(8, 1, i + 1)\n",
    "    sns.lineplot(x=x_labels_2, y=[athlete_results_aya_restingBPM[i],\n",
    "                                athlete_results_aya_after_exercise[i],\n",
    "                                athlete_results_aya_after_rest[i]])\n",
    "    plt.title(f\"{dates[i]} (α = {alpha_values[i]}, {particle_size[i]})\", fontweight=\"bold\", fontsize=23)\n",
    "    plt.ylabel(\"BPM de Aya\", fontweight=\"bold\", fontsize=15)\n",
    "plt.tight_layout()\n",
    "plt.show()"
   ]
  },
  {
   "cell_type": "markdown",
   "metadata": {},
   "source": [
    "### Graphiques: BPM de Rayan"
   ]
  },
  {
   "cell_type": "code",
   "execution_count": null,
   "metadata": {},
   "outputs": [],
   "source": [
    "sns.set(font_scale=1.2, font=\"Verdana\")\n",
    "\n",
    "plt.figure(figsize=(16, 32))\n",
    "for i in range(8):\n",
    "    plt.subplot(8, 1, i + 1)\n",
    "    sns.lineplot(x=x_labels_2, y=[athlete_results_rayan_restingBPM[i],\n",
    "                                athlete_results_rayan_after_exercise[i],\n",
    "                                athlete_results_rayan_after_rest[i]])\n",
    "    plt.title(f\"{dates[i]} (α = {alpha_values[i]}, {particle_size[i]})\", fontweight=\"bold\", fontsize=23)\n",
    "    plt.ylabel(\"BPM de Aya\", fontweight=\"bold\", fontsize=15)\n",
    "plt.tight_layout()\n",
    "plt.show()"
   ]
  }
 ],
 "metadata": {
  "kernelspec": {
   "display_name": "Python 3",
   "language": "python",
   "name": "python3"
  },
  "language_info": {
   "codemirror_mode": {
    "name": "ipython",
    "version": 3
   },
   "file_extension": ".py",
   "mimetype": "text/x-python",
   "name": "python",
   "nbconvert_exporter": "python",
   "pygments_lexer": "ipython3",
   "version": "3.11.4"
  }
 },
 "nbformat": 4,
 "nbformat_minor": 2
}
